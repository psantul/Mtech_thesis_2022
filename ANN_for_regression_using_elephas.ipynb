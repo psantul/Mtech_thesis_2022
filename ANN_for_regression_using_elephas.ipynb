{
  "nbformat": 4,
  "nbformat_minor": 0,
  "metadata": {
    "colab": {
      "name": "ANN (1).ipynb",
      "provenance": [],
      "include_colab_link": true
    },
    "kernelspec": {
      "name": "python3",
      "display_name": "Python 3"
    },
    "language_info": {
      "name": "python"
    }
  },
  "cells": [
    {
      "cell_type": "markdown",
      "metadata": {
        "id": "view-in-github",
        "colab_type": "text"
      },
      "source": [
        "<a href=\"https://colab.research.google.com/github/psantul/Mtech_thesis_2022/blob/main/ANN_for_regression_using_elephas.ipynb\" target=\"_parent\"><img src=\"https://colab.research.google.com/assets/colab-badge.svg\" alt=\"Open In Colab\"/></a>"
      ]
    },
    {
      "cell_type": "code",
      "metadata": {
        "colab": {
          "base_uri": "https://localhost:8080/"
        },
        "id": "N2P2h9Fahw17",
        "outputId": "b6317898-bf28-4de7-b11f-fb697cfaaf6e"
      },
      "source": [
        "from google.colab import drive\n",
        "drive.mount('/content/drive')"
      ],
      "execution_count": null,
      "outputs": [
        {
          "output_type": "stream",
          "name": "stdout",
          "text": [
            "Drive already mounted at /content/drive; to attempt to forcibly remount, call drive.mount(\"/content/drive\", force_remount=True).\n"
          ]
        }
      ]
    },
    {
      "cell_type": "code",
      "metadata": {
        "id": "m5K8pNaraHFw",
        "colab": {
          "base_uri": "https://localhost:8080/"
        },
        "outputId": "07eb3d01-b9bd-41e2-a9ad-ab58e938cd67"
      },
      "source": [
        "!pip install elephas==0.4.5"
      ],
      "execution_count": null,
      "outputs": [
        {
          "output_type": "stream",
          "name": "stdout",
          "text": [
            "Requirement already satisfied: elephas==0.4.5 in /usr/local/lib/python3.7/dist-packages (0.4.5)\n",
            "Requirement already satisfied: pyspark==2.4.5 in /usr/local/lib/python3.7/dist-packages (from elephas==0.4.5) (2.4.5)\n",
            "Requirement already satisfied: cython in /usr/local/lib/python3.7/dist-packages (from elephas==0.4.5) (0.29.24)\n",
            "Requirement already satisfied: h5py==2.10.0 in /usr/local/lib/python3.7/dist-packages (from elephas==0.4.5) (2.10.0)\n",
            "Requirement already satisfied: flask in /usr/local/lib/python3.7/dist-packages (from elephas==0.4.5) (1.1.4)\n",
            "Requirement already satisfied: tensorflow<=1.15.4 in /usr/local/lib/python3.7/dist-packages (from elephas==0.4.5) (1.15.4)\n",
            "Requirement already satisfied: six in /usr/local/lib/python3.7/dist-packages (from elephas==0.4.5) (1.15.0)\n",
            "Requirement already satisfied: keras==2.2.5 in /usr/local/lib/python3.7/dist-packages (from elephas==0.4.5) (2.2.5)\n",
            "Requirement already satisfied: hyperas in /usr/local/lib/python3.7/dist-packages (from elephas==0.4.5) (0.4.1)\n",
            "Requirement already satisfied: numpy>=1.7 in /usr/local/lib/python3.7/dist-packages (from h5py==2.10.0->elephas==0.4.5) (1.18.5)\n",
            "Requirement already satisfied: pyyaml in /usr/local/lib/python3.7/dist-packages (from keras==2.2.5->elephas==0.4.5) (5.4.1)\n",
            "Requirement already satisfied: keras-applications>=1.0.8 in /usr/local/lib/python3.7/dist-packages (from keras==2.2.5->elephas==0.4.5) (1.0.8)\n",
            "Requirement already satisfied: keras-preprocessing>=1.1.0 in /usr/local/lib/python3.7/dist-packages (from keras==2.2.5->elephas==0.4.5) (1.1.2)\n",
            "Requirement already satisfied: scipy>=0.14 in /usr/local/lib/python3.7/dist-packages (from keras==2.2.5->elephas==0.4.5) (1.4.1)\n",
            "Requirement already satisfied: py4j==0.10.7 in /usr/local/lib/python3.7/dist-packages (from pyspark==2.4.5->elephas==0.4.5) (0.10.7)\n",
            "Requirement already satisfied: protobuf>=3.6.1 in /usr/local/lib/python3.7/dist-packages (from tensorflow<=1.15.4->elephas==0.4.5) (3.17.3)\n",
            "Requirement already satisfied: wrapt>=1.11.1 in /usr/local/lib/python3.7/dist-packages (from tensorflow<=1.15.4->elephas==0.4.5) (1.13.3)\n",
            "Requirement already satisfied: opt-einsum>=2.3.2 in /usr/local/lib/python3.7/dist-packages (from tensorflow<=1.15.4->elephas==0.4.5) (3.3.0)\n",
            "Requirement already satisfied: tensorboard<1.16.0,>=1.15.0 in /usr/local/lib/python3.7/dist-packages (from tensorflow<=1.15.4->elephas==0.4.5) (1.15.0)\n",
            "Requirement already satisfied: grpcio>=1.8.6 in /usr/local/lib/python3.7/dist-packages (from tensorflow<=1.15.4->elephas==0.4.5) (1.42.0)\n",
            "Requirement already satisfied: google-pasta>=0.1.6 in /usr/local/lib/python3.7/dist-packages (from tensorflow<=1.15.4->elephas==0.4.5) (0.2.0)\n",
            "Requirement already satisfied: astor>=0.6.0 in /usr/local/lib/python3.7/dist-packages (from tensorflow<=1.15.4->elephas==0.4.5) (0.8.1)\n",
            "Requirement already satisfied: gast==0.2.2 in /usr/local/lib/python3.7/dist-packages (from tensorflow<=1.15.4->elephas==0.4.5) (0.2.2)\n",
            "Requirement already satisfied: wheel>=0.26 in /usr/local/lib/python3.7/dist-packages (from tensorflow<=1.15.4->elephas==0.4.5) (0.37.0)\n",
            "Requirement already satisfied: termcolor>=1.1.0 in /usr/local/lib/python3.7/dist-packages (from tensorflow<=1.15.4->elephas==0.4.5) (1.1.0)\n",
            "Requirement already satisfied: tensorflow-estimator==1.15.1 in /usr/local/lib/python3.7/dist-packages (from tensorflow<=1.15.4->elephas==0.4.5) (1.15.1)\n",
            "Requirement already satisfied: absl-py>=0.7.0 in /usr/local/lib/python3.7/dist-packages (from tensorflow<=1.15.4->elephas==0.4.5) (0.12.0)\n",
            "Requirement already satisfied: markdown>=2.6.8 in /usr/local/lib/python3.7/dist-packages (from tensorboard<1.16.0,>=1.15.0->tensorflow<=1.15.4->elephas==0.4.5) (3.3.6)\n",
            "Requirement already satisfied: setuptools>=41.0.0 in /usr/local/lib/python3.7/dist-packages (from tensorboard<1.16.0,>=1.15.0->tensorflow<=1.15.4->elephas==0.4.5) (57.4.0)\n",
            "Requirement already satisfied: werkzeug>=0.11.15 in /usr/local/lib/python3.7/dist-packages (from tensorboard<1.16.0,>=1.15.0->tensorflow<=1.15.4->elephas==0.4.5) (1.0.1)\n",
            "Requirement already satisfied: importlib-metadata>=4.4 in /usr/local/lib/python3.7/dist-packages (from markdown>=2.6.8->tensorboard<1.16.0,>=1.15.0->tensorflow<=1.15.4->elephas==0.4.5) (4.8.2)\n",
            "Requirement already satisfied: typing-extensions>=3.6.4 in /usr/local/lib/python3.7/dist-packages (from importlib-metadata>=4.4->markdown>=2.6.8->tensorboard<1.16.0,>=1.15.0->tensorflow<=1.15.4->elephas==0.4.5) (3.10.0.2)\n",
            "Requirement already satisfied: zipp>=0.5 in /usr/local/lib/python3.7/dist-packages (from importlib-metadata>=4.4->markdown>=2.6.8->tensorboard<1.16.0,>=1.15.0->tensorflow<=1.15.4->elephas==0.4.5) (3.6.0)\n",
            "Requirement already satisfied: itsdangerous<2.0,>=0.24 in /usr/local/lib/python3.7/dist-packages (from flask->elephas==0.4.5) (1.1.0)\n",
            "Requirement already satisfied: Jinja2<3.0,>=2.10.1 in /usr/local/lib/python3.7/dist-packages (from flask->elephas==0.4.5) (2.11.3)\n",
            "Requirement already satisfied: click<8.0,>=5.1 in /usr/local/lib/python3.7/dist-packages (from flask->elephas==0.4.5) (7.1.2)\n",
            "Requirement already satisfied: MarkupSafe>=0.23 in /usr/local/lib/python3.7/dist-packages (from Jinja2<3.0,>=2.10.1->flask->elephas==0.4.5) (2.0.1)\n",
            "Requirement already satisfied: nbconvert in /usr/local/lib/python3.7/dist-packages (from hyperas->elephas==0.4.5) (5.6.1)\n",
            "Requirement already satisfied: hyperopt in /usr/local/lib/python3.7/dist-packages (from hyperas->elephas==0.4.5) (0.1.2)\n",
            "Requirement already satisfied: nbformat in /usr/local/lib/python3.7/dist-packages (from hyperas->elephas==0.4.5) (5.1.3)\n",
            "Requirement already satisfied: jupyter in /usr/local/lib/python3.7/dist-packages (from hyperas->elephas==0.4.5) (1.0.0)\n",
            "Requirement already satisfied: entrypoints in /usr/local/lib/python3.7/dist-packages (from hyperas->elephas==0.4.5) (0.3)\n",
            "Requirement already satisfied: tqdm in /usr/local/lib/python3.7/dist-packages (from hyperopt->hyperas->elephas==0.4.5) (4.62.3)\n",
            "Requirement already satisfied: pymongo in /usr/local/lib/python3.7/dist-packages (from hyperopt->hyperas->elephas==0.4.5) (3.12.1)\n",
            "Requirement already satisfied: future in /usr/local/lib/python3.7/dist-packages (from hyperopt->hyperas->elephas==0.4.5) (0.16.0)\n",
            "Requirement already satisfied: networkx in /usr/local/lib/python3.7/dist-packages (from hyperopt->hyperas->elephas==0.4.5) (2.6.3)\n",
            "Requirement already satisfied: notebook in /usr/local/lib/python3.7/dist-packages (from jupyter->hyperas->elephas==0.4.5) (5.3.1)\n",
            "Requirement already satisfied: ipykernel in /usr/local/lib/python3.7/dist-packages (from jupyter->hyperas->elephas==0.4.5) (4.10.1)\n",
            "Requirement already satisfied: jupyter-console in /usr/local/lib/python3.7/dist-packages (from jupyter->hyperas->elephas==0.4.5) (5.2.0)\n",
            "Requirement already satisfied: ipywidgets in /usr/local/lib/python3.7/dist-packages (from jupyter->hyperas->elephas==0.4.5) (7.6.5)\n",
            "Requirement already satisfied: qtconsole in /usr/local/lib/python3.7/dist-packages (from jupyter->hyperas->elephas==0.4.5) (5.2.1)\n",
            "Requirement already satisfied: tornado>=4.0 in /usr/local/lib/python3.7/dist-packages (from ipykernel->jupyter->hyperas->elephas==0.4.5) (5.1.1)\n",
            "Requirement already satisfied: jupyter-client in /usr/local/lib/python3.7/dist-packages (from ipykernel->jupyter->hyperas->elephas==0.4.5) (5.3.5)\n",
            "Requirement already satisfied: traitlets>=4.1.0 in /usr/local/lib/python3.7/dist-packages (from ipykernel->jupyter->hyperas->elephas==0.4.5) (5.1.1)\n",
            "Requirement already satisfied: ipython>=4.0.0 in /usr/local/lib/python3.7/dist-packages (from ipykernel->jupyter->hyperas->elephas==0.4.5) (5.5.0)\n",
            "Requirement already satisfied: simplegeneric>0.8 in /usr/local/lib/python3.7/dist-packages (from ipython>=4.0.0->ipykernel->jupyter->hyperas->elephas==0.4.5) (0.8.1)\n",
            "Requirement already satisfied: pickleshare in /usr/local/lib/python3.7/dist-packages (from ipython>=4.0.0->ipykernel->jupyter->hyperas->elephas==0.4.5) (0.7.5)\n",
            "Requirement already satisfied: prompt-toolkit<2.0.0,>=1.0.4 in /usr/local/lib/python3.7/dist-packages (from ipython>=4.0.0->ipykernel->jupyter->hyperas->elephas==0.4.5) (1.0.18)\n",
            "Requirement already satisfied: decorator in /usr/local/lib/python3.7/dist-packages (from ipython>=4.0.0->ipykernel->jupyter->hyperas->elephas==0.4.5) (4.4.2)\n",
            "Requirement already satisfied: pexpect in /usr/local/lib/python3.7/dist-packages (from ipython>=4.0.0->ipykernel->jupyter->hyperas->elephas==0.4.5) (4.8.0)\n",
            "Requirement already satisfied: pygments in /usr/local/lib/python3.7/dist-packages (from ipython>=4.0.0->ipykernel->jupyter->hyperas->elephas==0.4.5) (2.6.1)\n",
            "Requirement already satisfied: wcwidth in /usr/local/lib/python3.7/dist-packages (from prompt-toolkit<2.0.0,>=1.0.4->ipython>=4.0.0->ipykernel->jupyter->hyperas->elephas==0.4.5) (0.2.5)\n",
            "Requirement already satisfied: widgetsnbextension~=3.5.0 in /usr/local/lib/python3.7/dist-packages (from ipywidgets->jupyter->hyperas->elephas==0.4.5) (3.5.2)\n",
            "Requirement already satisfied: ipython-genutils~=0.2.0 in /usr/local/lib/python3.7/dist-packages (from ipywidgets->jupyter->hyperas->elephas==0.4.5) (0.2.0)\n",
            "Requirement already satisfied: jupyterlab-widgets>=1.0.0 in /usr/local/lib/python3.7/dist-packages (from ipywidgets->jupyter->hyperas->elephas==0.4.5) (1.0.2)\n",
            "Requirement already satisfied: jupyter-core in /usr/local/lib/python3.7/dist-packages (from nbformat->hyperas->elephas==0.4.5) (4.9.1)\n",
            "Requirement already satisfied: jsonschema!=2.5.0,>=2.4 in /usr/local/lib/python3.7/dist-packages (from nbformat->hyperas->elephas==0.4.5) (2.6.0)\n",
            "Requirement already satisfied: Send2Trash in /usr/local/lib/python3.7/dist-packages (from notebook->jupyter->hyperas->elephas==0.4.5) (1.8.0)\n",
            "Requirement already satisfied: terminado>=0.8.1 in /usr/local/lib/python3.7/dist-packages (from notebook->jupyter->hyperas->elephas==0.4.5) (0.12.1)\n",
            "Requirement already satisfied: python-dateutil>=2.1 in /usr/local/lib/python3.7/dist-packages (from jupyter-client->ipykernel->jupyter->hyperas->elephas==0.4.5) (2.8.2)\n",
            "Requirement already satisfied: pyzmq>=13 in /usr/local/lib/python3.7/dist-packages (from jupyter-client->ipykernel->jupyter->hyperas->elephas==0.4.5) (22.3.0)\n",
            "Requirement already satisfied: ptyprocess in /usr/local/lib/python3.7/dist-packages (from terminado>=0.8.1->notebook->jupyter->hyperas->elephas==0.4.5) (0.7.0)\n",
            "Requirement already satisfied: mistune<2,>=0.8.1 in /usr/local/lib/python3.7/dist-packages (from nbconvert->hyperas->elephas==0.4.5) (0.8.4)\n",
            "Requirement already satisfied: defusedxml in /usr/local/lib/python3.7/dist-packages (from nbconvert->hyperas->elephas==0.4.5) (0.7.1)\n",
            "Requirement already satisfied: testpath in /usr/local/lib/python3.7/dist-packages (from nbconvert->hyperas->elephas==0.4.5) (0.5.0)\n",
            "Requirement already satisfied: pandocfilters>=1.4.1 in /usr/local/lib/python3.7/dist-packages (from nbconvert->hyperas->elephas==0.4.5) (1.5.0)\n",
            "Requirement already satisfied: bleach in /usr/local/lib/python3.7/dist-packages (from nbconvert->hyperas->elephas==0.4.5) (4.1.0)\n",
            "Requirement already satisfied: webencodings in /usr/local/lib/python3.7/dist-packages (from bleach->nbconvert->hyperas->elephas==0.4.5) (0.5.1)\n",
            "Requirement already satisfied: packaging in /usr/local/lib/python3.7/dist-packages (from bleach->nbconvert->hyperas->elephas==0.4.5) (21.3)\n",
            "Requirement already satisfied: pyparsing!=3.0.5,>=2.0.2 in /usr/local/lib/python3.7/dist-packages (from packaging->bleach->nbconvert->hyperas->elephas==0.4.5) (3.0.6)\n",
            "Requirement already satisfied: qtpy in /usr/local/lib/python3.7/dist-packages (from qtconsole->jupyter->hyperas->elephas==0.4.5) (1.11.2)\n"
          ]
        }
      ]
    },
    {
      "cell_type": "code",
      "metadata": {
        "colab": {
          "base_uri": "https://localhost:8080/"
        },
        "id": "VaGmNPZceCAL",
        "outputId": "4ef28a8b-566b-4a3b-f5bc-cd1e23b0790d"
      },
      "source": [
        "import os       #importing os to set environment variable\n",
        "def install_java():\n",
        "  !apt update\n",
        "  !apt-get install -y openjdk-8-jdk-headless -qq > /dev/null      #install openjdk\n",
        "  os.environ[\"JAVA_HOME\"] = \"/usr/lib/jvm/java-8-openjdk-amd64\"     #set environment variable\n",
        "  !java -version       #check java version\n",
        "install_java()"
      ],
      "execution_count": null,
      "outputs": [
        {
          "output_type": "stream",
          "name": "stdout",
          "text": [
            "Hit:1 https://cloud.r-project.org/bin/linux/ubuntu bionic-cran40/ InRelease\n",
            "Ign:2 https://developer.download.nvidia.com/compute/cuda/repos/ubuntu1804/x86_64  InRelease\n",
            "Hit:3 http://security.ubuntu.com/ubuntu bionic-security InRelease\n",
            "Ign:4 https://developer.download.nvidia.com/compute/machine-learning/repos/ubuntu1804/x86_64  InRelease\n",
            "Hit:5 https://developer.download.nvidia.com/compute/cuda/repos/ubuntu1804/x86_64  Release\n",
            "Hit:6 https://developer.download.nvidia.com/compute/machine-learning/repos/ubuntu1804/x86_64  Release\n",
            "Hit:7 http://ppa.launchpad.net/c2d4u.team/c2d4u4.0+/ubuntu bionic InRelease\n",
            "Hit:8 http://archive.ubuntu.com/ubuntu bionic InRelease\n",
            "Hit:10 http://ppa.launchpad.net/cran/libgit2/ubuntu bionic InRelease\n",
            "Hit:11 http://archive.ubuntu.com/ubuntu bionic-updates InRelease\n",
            "Hit:13 http://archive.ubuntu.com/ubuntu bionic-backports InRelease\n",
            "Hit:14 http://ppa.launchpad.net/deadsnakes/ppa/ubuntu bionic InRelease\n",
            "Hit:15 http://ppa.launchpad.net/graphics-drivers/ppa/ubuntu bionic InRelease\n",
            "Reading package lists... Done\n",
            "Building dependency tree       \n",
            "Reading state information... Done\n",
            "43 packages can be upgraded. Run 'apt list --upgradable' to see them.\n",
            "openjdk version \"11.0.11\" 2021-04-20\n",
            "OpenJDK Runtime Environment (build 11.0.11+9-Ubuntu-0ubuntu2.18.04)\n",
            "OpenJDK 64-Bit Server VM (build 11.0.11+9-Ubuntu-0ubuntu2.18.04, mixed mode, sharing)\n"
          ]
        }
      ]
    },
    {
      "cell_type": "code",
      "metadata": {
        "id": "UQCTWz7RasVZ"
      },
      "source": [
        "from keras.datasets import boston_housing\n",
        "from keras.models import Sequential\n",
        "from keras.layers import Dense, Activation\n",
        "from keras import optimizers\n",
        "\n",
        "from elephas.ml_model import ElephasEstimator\n",
        "from elephas.ml.adapter import to_data_frame\n",
        "\n",
        "from pyspark import SparkContext, SparkConf\n",
        "from pyspark.mllib.evaluation import RegressionMetrics\n",
        "from pyspark.ml import Pipeline\n"
      ],
      "execution_count": null,
      "outputs": []
    },
    {
      "cell_type": "code",
      "metadata": {
        "id": "6ctub3uVNE6p",
        "colab": {
          "base_uri": "https://localhost:8080/",
          "height": 224
        },
        "outputId": "91a42afb-2b7c-4870-857e-1acf37efc35d"
      },
      "source": [
        "# Create Spark context\n",
        "conf = SparkConf().setAppName('BostonHousing_Spark_MLP').setMaster('local[*]')\n",
        "sc = SparkContext(conf=conf)"
      ],
      "execution_count": null,
      "outputs": [
        {
          "output_type": "error",
          "ename": "ValueError",
          "evalue": "ignored",
          "traceback": [
            "\u001b[0;31m---------------------------------------------------------------------------\u001b[0m",
            "\u001b[0;31mValueError\u001b[0m                                Traceback (most recent call last)",
            "\u001b[0;32m<ipython-input-21-39a6aa74258e>\u001b[0m in \u001b[0;36m<module>\u001b[0;34m()\u001b[0m\n\u001b[1;32m      1\u001b[0m \u001b[0;31m# Create Spark context\u001b[0m\u001b[0;34m\u001b[0m\u001b[0;34m\u001b[0m\u001b[0;34m\u001b[0m\u001b[0m\n\u001b[1;32m      2\u001b[0m \u001b[0mconf\u001b[0m \u001b[0;34m=\u001b[0m \u001b[0mSparkConf\u001b[0m\u001b[0;34m(\u001b[0m\u001b[0;34m)\u001b[0m\u001b[0;34m.\u001b[0m\u001b[0msetAppName\u001b[0m\u001b[0;34m(\u001b[0m\u001b[0;34m'BostonHousing_Spark_MLP'\u001b[0m\u001b[0;34m)\u001b[0m\u001b[0;34m.\u001b[0m\u001b[0msetMaster\u001b[0m\u001b[0;34m(\u001b[0m\u001b[0;34m'local[*]'\u001b[0m\u001b[0;34m)\u001b[0m\u001b[0;34m\u001b[0m\u001b[0;34m\u001b[0m\u001b[0m\n\u001b[0;32m----> 3\u001b[0;31m \u001b[0msc\u001b[0m \u001b[0;34m=\u001b[0m \u001b[0mSparkContext\u001b[0m\u001b[0;34m(\u001b[0m\u001b[0mconf\u001b[0m\u001b[0;34m=\u001b[0m\u001b[0mconf\u001b[0m\u001b[0;34m)\u001b[0m\u001b[0;34m\u001b[0m\u001b[0;34m\u001b[0m\u001b[0m\n\u001b[0m",
            "\u001b[0;32m/usr/local/lib/python3.7/dist-packages/pyspark/context.py\u001b[0m in \u001b[0;36m__init__\u001b[0;34m(self, master, appName, sparkHome, pyFiles, environment, batchSize, serializer, conf, gateway, jsc, profiler_cls)\u001b[0m\n\u001b[1;32m    131\u001b[0m                     \" note this option will be removed in Spark 3.0\")\n\u001b[1;32m    132\u001b[0m \u001b[0;34m\u001b[0m\u001b[0m\n\u001b[0;32m--> 133\u001b[0;31m         \u001b[0mSparkContext\u001b[0m\u001b[0;34m.\u001b[0m\u001b[0m_ensure_initialized\u001b[0m\u001b[0;34m(\u001b[0m\u001b[0mself\u001b[0m\u001b[0;34m,\u001b[0m \u001b[0mgateway\u001b[0m\u001b[0;34m=\u001b[0m\u001b[0mgateway\u001b[0m\u001b[0;34m,\u001b[0m \u001b[0mconf\u001b[0m\u001b[0;34m=\u001b[0m\u001b[0mconf\u001b[0m\u001b[0;34m)\u001b[0m\u001b[0;34m\u001b[0m\u001b[0;34m\u001b[0m\u001b[0m\n\u001b[0m\u001b[1;32m    134\u001b[0m         \u001b[0;32mtry\u001b[0m\u001b[0;34m:\u001b[0m\u001b[0;34m\u001b[0m\u001b[0;34m\u001b[0m\u001b[0m\n\u001b[1;32m    135\u001b[0m             self._do_init(master, appName, sparkHome, pyFiles, environment, batchSize, serializer,\n",
            "\u001b[0;32m/usr/local/lib/python3.7/dist-packages/pyspark/context.py\u001b[0m in \u001b[0;36m_ensure_initialized\u001b[0;34m(cls, instance, gateway, conf)\u001b[0m\n\u001b[1;32m    330\u001b[0m                         \u001b[0;34m\" created by %s at %s:%s \"\u001b[0m\u001b[0;34m\u001b[0m\u001b[0;34m\u001b[0m\u001b[0m\n\u001b[1;32m    331\u001b[0m                         % (currentAppName, currentMaster,\n\u001b[0;32m--> 332\u001b[0;31m                             callsite.function, callsite.file, callsite.linenum))\n\u001b[0m\u001b[1;32m    333\u001b[0m                 \u001b[0;32melse\u001b[0m\u001b[0;34m:\u001b[0m\u001b[0;34m\u001b[0m\u001b[0;34m\u001b[0m\u001b[0m\n\u001b[1;32m    334\u001b[0m                     \u001b[0mSparkContext\u001b[0m\u001b[0;34m.\u001b[0m\u001b[0m_active_spark_context\u001b[0m \u001b[0;34m=\u001b[0m \u001b[0minstance\u001b[0m\u001b[0;34m\u001b[0m\u001b[0;34m\u001b[0m\u001b[0m\n",
            "\u001b[0;31mValueError\u001b[0m: Cannot run multiple SparkContexts at once; existing SparkContext(app=BostonHousing_Spark_MLP, master=local[*]) created by __init__ at <ipython-input-5-39a6aa74258e>:3 "
          ]
        }
      ]
    },
    {
      "cell_type": "code",
      "metadata": {
        "id": "hIf6HpOebPUq",
        "colab": {
          "base_uri": "https://localhost:8080/"
        },
        "outputId": "3ab9463d-f06b-4181-c581-c18af7cfccce"
      },
      "source": [
        "pip install PyYAML==5.4.1"
      ],
      "execution_count": null,
      "outputs": [
        {
          "output_type": "stream",
          "name": "stdout",
          "text": [
            "Requirement already satisfied: PyYAML==5.4.1 in /usr/local/lib/python3.7/dist-packages (5.4.1)\n"
          ]
        }
      ]
    },
    {
      "cell_type": "code",
      "metadata": {
        "id": "O0l4w0_sNAid",
        "colab": {
          "base_uri": "https://localhost:8080/"
        },
        "outputId": "1e333a74-1355-4433-e7d9-7e9aa7aab4d2"
      },
      "source": [
        "# Define basic parameters\n",
        "import pandas as pd\n",
        "import numpy as np \n",
        "\n",
        "batch_size = 64\n",
        "epochs = 10\n",
        "\n",
        "# Load data\n",
        "data= pd.read_csv(\"/content/drive/MyDrive/LALR.csv\")\n",
        "data[data[\"modelMag_u\"]==-9999]=np.nan\n",
        "data[data[\"modelMag_g\"]==-9999]=np.nan\n",
        "data[data[\"modelMag_r\"]==-9999]=np.nan\n",
        "data[data[\"modelMag_i\"]==-9999]=np.nan\n",
        "data[data[\"modelMag_z\"]==-9999]=np.nan\n",
        "data[data[\"fiberMag_u\"]==-9999]=np.nan\n",
        "data[data[\"fiberMag_g\"]==-9999]=np.nan\n",
        "data[data[\"fiberMag_r\"]==-9999]=np.nan\n",
        "data[data[\"fiberMag_i\"]==-9999]=np.nan\n",
        "data[data[\"fiberMag_z\"]==-9999]=np.nan\n",
        "data[data[\"dered_u\"]==-9999]=np.nan\n",
        "data[data[\"dered_g\"]==-9999]=np.nan\n",
        "data[data[\"dered_r\"]==-9999]=np.nan\n",
        "data[data[\"dered_i\"]==-9999]=np.nan\n",
        "data[data[\"dered_z\"]==-9999]=np.nan\n",
        "data[data[\"redshift\"]<0]=np.nan\n",
        "print(data.shape)\n",
        "data=data.dropna()\n",
        "print(data.shape)\n",
        "data1=data.to_numpy()"
      ],
      "execution_count": null,
      "outputs": [
        {
          "output_type": "stream",
          "name": "stdout",
          "text": [
            "(499998, 33)\n",
            "(499732, 33)\n"
          ]
        }
      ]
    },
    {
      "cell_type": "code",
      "metadata": {
        "colab": {
          "base_uri": "https://localhost:8080/",
          "height": 444
        },
        "id": "4NI2q411SrCp",
        "outputId": "0c6512c4-6efb-4cd5-c1eb-26bde7f2746c"
      },
      "source": [
        "data"
      ],
      "execution_count": null,
      "outputs": [
        {
          "output_type": "execute_result",
          "data": {
            "text/html": [
              "<div>\n",
              "<style scoped>\n",
              "    .dataframe tbody tr th:only-of-type {\n",
              "        vertical-align: middle;\n",
              "    }\n",
              "\n",
              "    .dataframe tbody tr th {\n",
              "        vertical-align: top;\n",
              "    }\n",
              "\n",
              "    .dataframe thead th {\n",
              "        text-align: right;\n",
              "    }\n",
              "</style>\n",
              "<table border=\"1\" class=\"dataframe\">\n",
              "  <thead>\n",
              "    <tr style=\"text-align: right;\">\n",
              "      <th></th>\n",
              "      <th>modelMag_u</th>\n",
              "      <th>modelMag_g</th>\n",
              "      <th>modelMag_r</th>\n",
              "      <th>modelMag_i</th>\n",
              "      <th>modelMag_z</th>\n",
              "      <th>modelMag_ug</th>\n",
              "      <th>modelMag_gr</th>\n",
              "      <th>modelMag_ri</th>\n",
              "      <th>modelMag_iz</th>\n",
              "      <th>fiberMag_u</th>\n",
              "      <th>fiberMag_g</th>\n",
              "      <th>fiberMag_r</th>\n",
              "      <th>fiberMag_i</th>\n",
              "      <th>fiberMag_z</th>\n",
              "      <th>fiberMag_ug</th>\n",
              "      <th>fiberMag_gr</th>\n",
              "      <th>fiberMag_ri</th>\n",
              "      <th>fiberMag_iz</th>\n",
              "      <th>petroR50_rr</th>\n",
              "      <th>petroR90_zz</th>\n",
              "      <th>ri</th>\n",
              "      <th>iz</th>\n",
              "      <th>dered_u</th>\n",
              "      <th>dered_g</th>\n",
              "      <th>dered_r</th>\n",
              "      <th>dered_i</th>\n",
              "      <th>dered_z</th>\n",
              "      <th>petroMag_uu</th>\n",
              "      <th>petroMag_gg</th>\n",
              "      <th>petroMag_rr</th>\n",
              "      <th>petroMag_ii</th>\n",
              "      <th>petroMag_zz</th>\n",
              "      <th>redshift</th>\n",
              "    </tr>\n",
              "  </thead>\n",
              "  <tbody>\n",
              "    <tr>\n",
              "      <th>0</th>\n",
              "      <td>18.63367</td>\n",
              "      <td>18.32343</td>\n",
              "      <td>18.00390</td>\n",
              "      <td>17.90613</td>\n",
              "      <td>17.80887</td>\n",
              "      <td>0.31024</td>\n",
              "      <td>0.31953</td>\n",
              "      <td>0.09777</td>\n",
              "      <td>0.09726</td>\n",
              "      <td>18.97055</td>\n",
              "      <td>18.66509</td>\n",
              "      <td>18.37645</td>\n",
              "      <td>18.26491</td>\n",
              "      <td>18.17366</td>\n",
              "      <td>0.30546</td>\n",
              "      <td>0.28864</td>\n",
              "      <td>0.11154</td>\n",
              "      <td>0.09125</td>\n",
              "      <td>0.447172</td>\n",
              "      <td>0.427554</td>\n",
              "      <td>0.09777</td>\n",
              "      <td>0.09726</td>\n",
              "      <td>18.51204</td>\n",
              "      <td>18.22865</td>\n",
              "      <td>17.93834</td>\n",
              "      <td>17.85741</td>\n",
              "      <td>17.77264</td>\n",
              "      <td>18.546524</td>\n",
              "      <td>18.257280</td>\n",
              "      <td>17.991669</td>\n",
              "      <td>17.904271</td>\n",
              "      <td>17.813342</td>\n",
              "      <td>1.136832</td>\n",
              "    </tr>\n",
              "    <tr>\n",
              "      <th>1</th>\n",
              "      <td>20.42920</td>\n",
              "      <td>18.43875</td>\n",
              "      <td>19.02415</td>\n",
              "      <td>17.63169</td>\n",
              "      <td>23.19052</td>\n",
              "      <td>1.99045</td>\n",
              "      <td>-0.58540</td>\n",
              "      <td>1.39246</td>\n",
              "      <td>-5.55883</td>\n",
              "      <td>22.07500</td>\n",
              "      <td>20.48703</td>\n",
              "      <td>19.57536</td>\n",
              "      <td>19.04174</td>\n",
              "      <td>18.63651</td>\n",
              "      <td>1.58797</td>\n",
              "      <td>0.91167</td>\n",
              "      <td>0.53362</td>\n",
              "      <td>0.40523</td>\n",
              "      <td>0.643350</td>\n",
              "      <td>1.000000</td>\n",
              "      <td>1.39246</td>\n",
              "      <td>-5.55883</td>\n",
              "      <td>20.31271</td>\n",
              "      <td>18.34798</td>\n",
              "      <td>18.96136</td>\n",
              "      <td>17.58503</td>\n",
              "      <td>23.15581</td>\n",
              "      <td>21.083042</td>\n",
              "      <td>19.123444</td>\n",
              "      <td>19.595778</td>\n",
              "      <td>18.380089</td>\n",
              "      <td>22.874383</td>\n",
              "      <td>0.077724</td>\n",
              "    </tr>\n",
              "    <tr>\n",
              "      <th>2</th>\n",
              "      <td>19.09698</td>\n",
              "      <td>18.24340</td>\n",
              "      <td>17.99472</td>\n",
              "      <td>17.87978</td>\n",
              "      <td>17.78229</td>\n",
              "      <td>0.85358</td>\n",
              "      <td>0.24868</td>\n",
              "      <td>0.11494</td>\n",
              "      <td>0.09749</td>\n",
              "      <td>20.00031</td>\n",
              "      <td>19.17252</td>\n",
              "      <td>18.97012</td>\n",
              "      <td>18.84720</td>\n",
              "      <td>18.72353</td>\n",
              "      <td>0.82779</td>\n",
              "      <td>0.20240</td>\n",
              "      <td>0.12292</td>\n",
              "      <td>0.12367</td>\n",
              "      <td>0.400243</td>\n",
              "      <td>0.355879</td>\n",
              "      <td>0.11494</td>\n",
              "      <td>0.09749</td>\n",
              "      <td>18.99623</td>\n",
              "      <td>18.16489</td>\n",
              "      <td>17.94042</td>\n",
              "      <td>17.83943</td>\n",
              "      <td>17.75227</td>\n",
              "      <td>19.229591</td>\n",
              "      <td>18.341557</td>\n",
              "      <td>18.099712</td>\n",
              "      <td>17.927523</td>\n",
              "      <td>17.829662</td>\n",
              "      <td>0.023219</td>\n",
              "    </tr>\n",
              "    <tr>\n",
              "      <th>3</th>\n",
              "      <td>18.94601</td>\n",
              "      <td>17.41685</td>\n",
              "      <td>16.66702</td>\n",
              "      <td>16.26281</td>\n",
              "      <td>15.96437</td>\n",
              "      <td>1.52916</td>\n",
              "      <td>0.74983</td>\n",
              "      <td>0.40421</td>\n",
              "      <td>0.29844</td>\n",
              "      <td>20.16053</td>\n",
              "      <td>18.62279</td>\n",
              "      <td>17.86405</td>\n",
              "      <td>17.43543</td>\n",
              "      <td>17.13951</td>\n",
              "      <td>1.53774</td>\n",
              "      <td>0.75874</td>\n",
              "      <td>0.42862</td>\n",
              "      <td>0.29592</td>\n",
              "      <td>0.341635</td>\n",
              "      <td>0.341081</td>\n",
              "      <td>0.40421</td>\n",
              "      <td>0.29844</td>\n",
              "      <td>18.82164</td>\n",
              "      <td>17.31994</td>\n",
              "      <td>16.59999</td>\n",
              "      <td>16.21299</td>\n",
              "      <td>15.92731</td>\n",
              "      <td>18.749182</td>\n",
              "      <td>17.354763</td>\n",
              "      <td>16.696120</td>\n",
              "      <td>16.314472</td>\n",
              "      <td>16.100555</td>\n",
              "      <td>0.092937</td>\n",
              "    </tr>\n",
              "    <tr>\n",
              "      <th>4</th>\n",
              "      <td>17.47912</td>\n",
              "      <td>16.09549</td>\n",
              "      <td>15.40855</td>\n",
              "      <td>15.05322</td>\n",
              "      <td>14.76498</td>\n",
              "      <td>1.38363</td>\n",
              "      <td>0.68694</td>\n",
              "      <td>0.35533</td>\n",
              "      <td>0.28824</td>\n",
              "      <td>19.65367</td>\n",
              "      <td>18.07723</td>\n",
              "      <td>17.29426</td>\n",
              "      <td>16.87859</td>\n",
              "      <td>16.54164</td>\n",
              "      <td>1.57644</td>\n",
              "      <td>0.78297</td>\n",
              "      <td>0.41567</td>\n",
              "      <td>0.33695</td>\n",
              "      <td>0.448481</td>\n",
              "      <td>0.418961</td>\n",
              "      <td>0.35533</td>\n",
              "      <td>0.28824</td>\n",
              "      <td>17.36187</td>\n",
              "      <td>16.00413</td>\n",
              "      <td>15.34535</td>\n",
              "      <td>15.00626</td>\n",
              "      <td>14.73004</td>\n",
              "      <td>17.145967</td>\n",
              "      <td>15.937575</td>\n",
              "      <td>15.339691</td>\n",
              "      <td>15.004376</td>\n",
              "      <td>14.737408</td>\n",
              "      <td>0.045453</td>\n",
              "    </tr>\n",
              "    <tr>\n",
              "      <th>...</th>\n",
              "      <td>...</td>\n",
              "      <td>...</td>\n",
              "      <td>...</td>\n",
              "      <td>...</td>\n",
              "      <td>...</td>\n",
              "      <td>...</td>\n",
              "      <td>...</td>\n",
              "      <td>...</td>\n",
              "      <td>...</td>\n",
              "      <td>...</td>\n",
              "      <td>...</td>\n",
              "      <td>...</td>\n",
              "      <td>...</td>\n",
              "      <td>...</td>\n",
              "      <td>...</td>\n",
              "      <td>...</td>\n",
              "      <td>...</td>\n",
              "      <td>...</td>\n",
              "      <td>...</td>\n",
              "      <td>...</td>\n",
              "      <td>...</td>\n",
              "      <td>...</td>\n",
              "      <td>...</td>\n",
              "      <td>...</td>\n",
              "      <td>...</td>\n",
              "      <td>...</td>\n",
              "      <td>...</td>\n",
              "      <td>...</td>\n",
              "      <td>...</td>\n",
              "      <td>...</td>\n",
              "      <td>...</td>\n",
              "      <td>...</td>\n",
              "      <td>...</td>\n",
              "    </tr>\n",
              "    <tr>\n",
              "      <th>499993</th>\n",
              "      <td>18.99426</td>\n",
              "      <td>17.36810</td>\n",
              "      <td>16.58402</td>\n",
              "      <td>16.20523</td>\n",
              "      <td>15.86163</td>\n",
              "      <td>1.62616</td>\n",
              "      <td>0.78408</td>\n",
              "      <td>0.37879</td>\n",
              "      <td>0.34360</td>\n",
              "      <td>20.70968</td>\n",
              "      <td>19.04063</td>\n",
              "      <td>18.18647</td>\n",
              "      <td>17.77382</td>\n",
              "      <td>17.44293</td>\n",
              "      <td>1.66905</td>\n",
              "      <td>0.85416</td>\n",
              "      <td>0.41265</td>\n",
              "      <td>0.33089</td>\n",
              "      <td>0.406708</td>\n",
              "      <td>0.403354</td>\n",
              "      <td>0.37879</td>\n",
              "      <td>0.34360</td>\n",
              "      <td>18.58247</td>\n",
              "      <td>17.04723</td>\n",
              "      <td>16.36205</td>\n",
              "      <td>16.04028</td>\n",
              "      <td>15.73894</td>\n",
              "      <td>18.427698</td>\n",
              "      <td>17.188134</td>\n",
              "      <td>16.594786</td>\n",
              "      <td>16.303980</td>\n",
              "      <td>16.037207</td>\n",
              "      <td>0.062305</td>\n",
              "    </tr>\n",
              "    <tr>\n",
              "      <th>499994</th>\n",
              "      <td>26.30986</td>\n",
              "      <td>22.24602</td>\n",
              "      <td>20.79212</td>\n",
              "      <td>19.60717</td>\n",
              "      <td>18.87149</td>\n",
              "      <td>4.06384</td>\n",
              "      <td>1.45390</td>\n",
              "      <td>1.18495</td>\n",
              "      <td>0.73568</td>\n",
              "      <td>25.84696</td>\n",
              "      <td>22.92900</td>\n",
              "      <td>21.51387</td>\n",
              "      <td>20.28887</td>\n",
              "      <td>19.55563</td>\n",
              "      <td>2.91796</td>\n",
              "      <td>1.41513</td>\n",
              "      <td>1.22500</td>\n",
              "      <td>0.73324</td>\n",
              "      <td>0.369900</td>\n",
              "      <td>0.492835</td>\n",
              "      <td>1.18495</td>\n",
              "      <td>0.73568</td>\n",
              "      <td>26.02305</td>\n",
              "      <td>22.02254</td>\n",
              "      <td>20.63752</td>\n",
              "      <td>19.49229</td>\n",
              "      <td>18.78604</td>\n",
              "      <td>26.847554</td>\n",
              "      <td>22.048673</td>\n",
              "      <td>20.595540</td>\n",
              "      <td>19.353425</td>\n",
              "      <td>18.560887</td>\n",
              "      <td>0.580707</td>\n",
              "    </tr>\n",
              "    <tr>\n",
              "      <th>499995</th>\n",
              "      <td>17.64359</td>\n",
              "      <td>16.57409</td>\n",
              "      <td>15.94364</td>\n",
              "      <td>15.57373</td>\n",
              "      <td>15.35887</td>\n",
              "      <td>1.06950</td>\n",
              "      <td>0.63045</td>\n",
              "      <td>0.36991</td>\n",
              "      <td>0.21486</td>\n",
              "      <td>18.60426</td>\n",
              "      <td>17.62134</td>\n",
              "      <td>17.10917</td>\n",
              "      <td>16.74243</td>\n",
              "      <td>16.53295</td>\n",
              "      <td>0.98292</td>\n",
              "      <td>0.51217</td>\n",
              "      <td>0.36674</td>\n",
              "      <td>0.20948</td>\n",
              "      <td>0.295260</td>\n",
              "      <td>0.309870</td>\n",
              "      <td>0.36991</td>\n",
              "      <td>0.21486</td>\n",
              "      <td>17.36313</td>\n",
              "      <td>16.35556</td>\n",
              "      <td>15.79246</td>\n",
              "      <td>15.46139</td>\n",
              "      <td>15.27531</td>\n",
              "      <td>17.625218</td>\n",
              "      <td>16.402484</td>\n",
              "      <td>15.806505</td>\n",
              "      <td>15.462681</td>\n",
              "      <td>15.279260</td>\n",
              "      <td>0.044006</td>\n",
              "    </tr>\n",
              "    <tr>\n",
              "      <th>499996</th>\n",
              "      <td>21.18099</td>\n",
              "      <td>20.11874</td>\n",
              "      <td>19.95208</td>\n",
              "      <td>19.94004</td>\n",
              "      <td>19.65134</td>\n",
              "      <td>1.06225</td>\n",
              "      <td>0.16666</td>\n",
              "      <td>0.01204</td>\n",
              "      <td>0.28870</td>\n",
              "      <td>21.40167</td>\n",
              "      <td>20.44057</td>\n",
              "      <td>20.29401</td>\n",
              "      <td>20.26854</td>\n",
              "      <td>20.03115</td>\n",
              "      <td>0.96110</td>\n",
              "      <td>0.14656</td>\n",
              "      <td>0.02547</td>\n",
              "      <td>0.23739</td>\n",
              "      <td>0.452512</td>\n",
              "      <td>0.540297</td>\n",
              "      <td>0.01204</td>\n",
              "      <td>0.28870</td>\n",
              "      <td>20.90148</td>\n",
              "      <td>19.90096</td>\n",
              "      <td>19.80142</td>\n",
              "      <td>19.82808</td>\n",
              "      <td>19.56807</td>\n",
              "      <td>20.702186</td>\n",
              "      <td>19.947462</td>\n",
              "      <td>19.859656</td>\n",
              "      <td>19.906900</td>\n",
              "      <td>19.758372</td>\n",
              "      <td>2.723559</td>\n",
              "    </tr>\n",
              "    <tr>\n",
              "      <th>499997</th>\n",
              "      <td>20.01398</td>\n",
              "      <td>19.70229</td>\n",
              "      <td>19.28343</td>\n",
              "      <td>19.15362</td>\n",
              "      <td>19.15588</td>\n",
              "      <td>0.31169</td>\n",
              "      <td>0.41886</td>\n",
              "      <td>0.12981</td>\n",
              "      <td>-0.00226</td>\n",
              "      <td>20.33342</td>\n",
              "      <td>20.01980</td>\n",
              "      <td>19.62722</td>\n",
              "      <td>19.49134</td>\n",
              "      <td>19.44546</td>\n",
              "      <td>0.31362</td>\n",
              "      <td>0.39258</td>\n",
              "      <td>0.13588</td>\n",
              "      <td>0.04588</td>\n",
              "      <td>0.457354</td>\n",
              "      <td>0.434574</td>\n",
              "      <td>0.12981</td>\n",
              "      <td>-0.00226</td>\n",
              "      <td>19.73516</td>\n",
              "      <td>19.48504</td>\n",
              "      <td>19.13313</td>\n",
              "      <td>19.04193</td>\n",
              "      <td>19.07280</td>\n",
              "      <td>19.775713</td>\n",
              "      <td>19.513067</td>\n",
              "      <td>19.190056</td>\n",
              "      <td>19.092485</td>\n",
              "      <td>19.029917</td>\n",
              "      <td>1.255538</td>\n",
              "    </tr>\n",
              "  </tbody>\n",
              "</table>\n",
              "<p>499732 rows × 33 columns</p>\n",
              "</div>"
            ],
            "text/plain": [
              "        modelMag_u  modelMag_g  modelMag_r  ...  petroMag_ii  petroMag_zz  redshift\n",
              "0         18.63367    18.32343    18.00390  ...    17.904271    17.813342  1.136832\n",
              "1         20.42920    18.43875    19.02415  ...    18.380089    22.874383  0.077724\n",
              "2         19.09698    18.24340    17.99472  ...    17.927523    17.829662  0.023219\n",
              "3         18.94601    17.41685    16.66702  ...    16.314472    16.100555  0.092937\n",
              "4         17.47912    16.09549    15.40855  ...    15.004376    14.737408  0.045453\n",
              "...            ...         ...         ...  ...          ...          ...       ...\n",
              "499993    18.99426    17.36810    16.58402  ...    16.303980    16.037207  0.062305\n",
              "499994    26.30986    22.24602    20.79212  ...    19.353425    18.560887  0.580707\n",
              "499995    17.64359    16.57409    15.94364  ...    15.462681    15.279260  0.044006\n",
              "499996    21.18099    20.11874    19.95208  ...    19.906900    19.758372  2.723559\n",
              "499997    20.01398    19.70229    19.28343  ...    19.092485    19.029917  1.255538\n",
              "\n",
              "[499732 rows x 33 columns]"
            ]
          },
          "metadata": {},
          "execution_count": 24
        }
      ]
    },
    {
      "cell_type": "code",
      "metadata": {
        "id": "FmQ_oMSiKUWp"
      },
      "source": [
        "#data.na.fill(value=0,subset=[\"modelMag_u\",\"modelMag_g\",\"modelMag_r\",\"modelMag_i\",\"modelMag_z\",\"fiberMag_u\",\"fiberMag_g\",\"fiberMag_r\",\"fiberMag_i\",\"fiberMag_z\",\"dered_u\",\"dered_g\",\"dered_r\",\"dered_i\",\"dered_z\",]).show()\n",
        "#data.na.fill(value=0).show()\n",
        "#data.replace(nan, 0)"
      ],
      "execution_count": null,
      "outputs": []
    },
    {
      "cell_type": "code",
      "metadata": {
        "colab": {
          "base_uri": "https://localhost:8080/"
        },
        "id": "FkJ49bgr7ndF",
        "outputId": "5e0639af-5ff6-4889-f173-39830c49c3c5"
      },
      "source": [
        "print(data1)"
      ],
      "execution_count": null,
      "outputs": [
        {
          "output_type": "stream",
          "name": "stdout",
          "text": [
            "[[18.63367    18.32343    18.0039     ... 17.90427082 17.81334188\n",
            "   1.136832  ]\n",
            " [20.4292     18.43875    19.02415    ... 18.38008898 22.87438277\n",
            "   0.07772421]\n",
            " [19.09698    18.2434     17.99472    ... 17.92752332 17.82966204\n",
            "   0.02321945]\n",
            " ...\n",
            " [17.64359    16.57409    15.94364    ... 15.4626806  15.27926011\n",
            "   0.04400648]\n",
            " [21.18099    20.11874    19.95208    ... 19.9069002  19.75837247\n",
            "   2.723559  ]\n",
            " [20.01398    19.70229    19.28343    ... 19.0924852  19.02991704\n",
            "   1.255538  ]]\n"
          ]
        }
      ]
    },
    {
      "cell_type": "code",
      "metadata": {
        "id": "z6aNfIZfCjZ6"
      },
      "source": [
        "import numpy as np\n",
        "data1 = np.delete(data1, 9, 1)\n",
        "data1 = np.delete(data1, 17, 1)"
      ],
      "execution_count": null,
      "outputs": []
    },
    {
      "cell_type": "code",
      "metadata": {
        "colab": {
          "base_uri": "https://localhost:8080/"
        },
        "id": "C_6LnrG_C01d",
        "outputId": "2d7e1831-44cd-4353-b23b-d20b983a3668"
      },
      "source": [
        "data1.shape"
      ],
      "execution_count": null,
      "outputs": [
        {
          "output_type": "execute_result",
          "data": {
            "text/plain": [
              "(499732, 31)"
            ]
          },
          "metadata": {},
          "execution_count": 28
        }
      ]
    },
    {
      "cell_type": "code",
      "metadata": {
        "id": "NJNx66QPj0X9"
      },
      "source": [
        "X=data1[:,0:29]\n",
        "#X=data1[:,1:19]\n",
        "y=data1[:,-1]"
      ],
      "execution_count": null,
      "outputs": []
    },
    {
      "cell_type": "code",
      "metadata": {
        "id": "WRgZ5Bgt6T6h"
      },
      "source": [
        "from sklearn.preprocessing import MinMaxScaler\n",
        "\n",
        "# fit scaler on training data\n",
        "norm = MinMaxScaler().fit(X)\n",
        "\n",
        "# transform training data\n",
        "X = norm.transform(X)"
      ],
      "execution_count": null,
      "outputs": []
    },
    {
      "cell_type": "code",
      "metadata": {
        "id": "ke-WrJjubJE_",
        "colab": {
          "base_uri": "https://localhost:8080/"
        },
        "outputId": "a6e02a8e-7963-466c-af17-5156d7e935cb"
      },
      "source": [
        "print(y)\n",
        "from sklearn.model_selection import train_test_split\n",
        "x_train,x_test,y_train,y_test=train_test_split(X, y, test_size=0.33,random_state=42)\n",
        "x_train = x_train.astype(\"float32\")\n",
        "x_test = x_test.astype(\"float32\")\n",
        "x_train /= 255\n",
        "x_test /= 255\n",
        "print(x_train.shape[0], 'train samples')\n",
        "print(x_test.shape[0], 'test samples')\n",
        "\n",
        "\n",
        "model = Sequential()\n",
        "model.add(Dense(64, input_shape=(x_train.shape[1],)))\n",
        "model.add(Activation('sigmoid'))\n",
        "model.add(Dense(128))\n",
        "model.add(Activation('sigmoid'))\n",
        "model.add(Activation('sigmoid'))\n",
        "model.add(Dense(256))\n",
        "model.add(Activation('sigmoid'))\n",
        "model.add(Dense(1))\n",
        "model.add(Activation('relu'))"
      ],
      "execution_count": null,
      "outputs": [
        {
          "output_type": "stream",
          "name": "stdout",
          "text": [
            "[1.136832   0.07772421 0.02321945 ... 0.04400648 2.723559   1.255538  ]\n",
            "334820 train samples\n",
            "164912 test samples\n"
          ]
        }
      ]
    },
    {
      "cell_type": "code",
      "metadata": {
        "id": "ZcI3LHp5NJNy",
        "colab": {
          "base_uri": "https://localhost:8080/"
        },
        "outputId": "5e0e6eae-164e-4268-a9f3-08b607463985"
      },
      "source": [
        "\n",
        "# Build RDD from numpy features and labels\n",
        "df = to_data_frame(sc, x_train, y_train)\n",
        "test_df = to_data_frame(sc, x_test, y_test)\n",
        "\n",
        "#sgd_conf = optimizers.serialize(sgd)\n",
        "opt = optimizers.Adam(lr=0.01)\n",
        "sgd_conf = optimizers.serialize(opt)\n",
        "# Initialize Spark ML Estimator\n",
        "estimator = ElephasEstimator()\n",
        "estimator.set_keras_model_config(model.to_yaml())\n",
        "estimator.set_optimizer_config(sgd_conf)\n",
        "estimator.set_mode(\"synchronous\")\n",
        "estimator.set_loss(\"mae\")\n",
        "estimator.set_metrics(['mse'])\n",
        "estimator.set_epochs(epochs)\n",
        "estimator.set_batch_size(batch_size)\n",
        "estimator.set_validation_split(0.1)\n",
        "estimator.set_categorical_labels(False)\n"
      ],
      "execution_count": null,
      "outputs": [
        {
          "output_type": "stream",
          "name": "stdout",
          "text": [
            "WARNING:tensorflow:From /usr/local/lib/python3.7/dist-packages/keras/backend/tensorflow_backend.py:190: The name tf.get_default_session is deprecated. Please use tf.compat.v1.get_default_session instead.\n",
            "\n",
            "WARNING:tensorflow:From /usr/local/lib/python3.7/dist-packages/keras/backend/tensorflow_backend.py:197: The name tf.ConfigProto is deprecated. Please use tf.compat.v1.ConfigProto instead.\n",
            "\n",
            "WARNING:tensorflow:From /usr/local/lib/python3.7/dist-packages/keras/backend/tensorflow_backend.py:203: The name tf.Session is deprecated. Please use tf.compat.v1.Session instead.\n",
            "\n",
            "WARNING:tensorflow:From /usr/local/lib/python3.7/dist-packages/keras/backend/tensorflow_backend.py:207: The name tf.global_variables is deprecated. Please use tf.compat.v1.global_variables instead.\n",
            "\n",
            "WARNING:tensorflow:From /usr/local/lib/python3.7/dist-packages/keras/backend/tensorflow_backend.py:216: The name tf.is_variable_initialized is deprecated. Please use tf.compat.v1.is_variable_initialized instead.\n",
            "\n",
            "WARNING:tensorflow:From /usr/local/lib/python3.7/dist-packages/keras/backend/tensorflow_backend.py:223: The name tf.variables_initializer is deprecated. Please use tf.compat.v1.variables_initializer instead.\n",
            "\n"
          ]
        },
        {
          "output_type": "execute_result",
          "data": {
            "text/plain": [
              "ElephasEstimator_dd9accd23d0c"
            ]
          },
          "metadata": {},
          "execution_count": 32
        }
      ]
    },
    {
      "cell_type": "code",
      "metadata": {
        "id": "GtNiqn4mawHQ",
        "colab": {
          "base_uri": "https://localhost:8080/"
        },
        "outputId": "39bdc089-e7e8-40fe-860a-5ee917f2e907"
      },
      "source": [
        "\n",
        "\n",
        "# Fitting a model returns a Transformer\n",
        "pipeline = Pipeline(stages=[estimator])\n",
        "fitted_pipeline = pipeline.fit(df)\n",
        "\n",
        "# Evaluate Spark model by evaluating the underlying model\n",
        "prediction = fitted_pipeline.transform(test_df)\n",
        "pnl = prediction.select(\"label\", \"prediction\")\n",
        "pnl.show(10)\n",
        "\n",
        "prediction_and_label = pnl.rdd.map(lambda row: (row.label, row.prediction))\n",
        "metrics = RegressionMetrics(prediction_and_label)\n",
        "print(metrics.meanAbsoluteError)\n",
        "print(metrics.rootMeanSquaredError)"
      ],
      "execution_count": null,
      "outputs": [
        {
          "output_type": "stream",
          "name": "stdout",
          "text": [
            "WARNING:tensorflow:From /usr/local/lib/python3.7/dist-packages/keras/optimizers.py:793: The name tf.train.Optimizer is deprecated. Please use tf.compat.v1.train.Optimizer instead.\n",
            "\n",
            ">>> Fit model\n",
            ">>> Synchronous training complete.\n",
            "+-------------------+----------+\n",
            "|              label|prediction|\n",
            "+-------------------+----------+\n",
            "|          0.3645389|       0.0|\n",
            "| 1.7452560000000001|       0.0|\n",
            "|           1.428886|       0.0|\n",
            "|           1.496038|       0.0|\n",
            "|          0.6393591|       0.0|\n",
            "|0.12874839999999999|       0.0|\n",
            "|          0.3162909|       0.0|\n",
            "|           1.387032|       0.0|\n",
            "|         0.06483295|       0.0|\n",
            "|          0.2590229|       0.0|\n",
            "+-------------------+----------+\n",
            "only showing top 10 rows\n",
            "\n",
            "0.6499384378686418\n",
            "0.9840009414049212\n"
          ]
        }
      ]
    }
  ]
}