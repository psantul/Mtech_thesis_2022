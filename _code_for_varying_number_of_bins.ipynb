{
  "nbformat": 4,
  "nbformat_minor": 0,
  "metadata": {
    "colab": {
      "name": "Classes.ipynb",
      "provenance": [],
      "authorship_tag": "ABX9TyPvyPdr05eWnpdLn7/qRBaz",
      "include_colab_link": true
    },
    "kernelspec": {
      "name": "python3",
      "display_name": "Python 3"
    },
    "language_info": {
      "name": "python"
    }
  },
  "cells": [
    {
      "cell_type": "markdown",
      "metadata": {
        "id": "view-in-github",
        "colab_type": "text"
      },
      "source": [
        "<a href=\"https://colab.research.google.com/github/psantul/Mtech_thesis_2022/blob/main/_code_for_varying_number_of_bins.ipynb\" target=\"_parent\"><img src=\"https://colab.research.google.com/assets/colab-badge.svg\" alt=\"Open In Colab\"/></a>"
      ]
    },
    {
      "cell_type": "code",
      "source": [
        "from google.colab import drive\n",
        "drive.mount('/content/drive')"
      ],
      "metadata": {
        "colab": {
          "base_uri": "https://localhost:8080/"
        },
        "id": "1PpoiSEgJAM2",
        "outputId": "dac1d84b-bb83-4f69-c584-8a5d954c8af8"
      },
      "execution_count": null,
      "outputs": [
        {
          "output_type": "stream",
          "name": "stdout",
          "text": [
            "Drive already mounted at /content/drive; to attempt to forcibly remount, call drive.mount(\"/content/drive\", force_remount=True).\n"
          ]
        }
      ]
    },
    {
      "cell_type": "code",
      "source": [
        "import pandas as pd"
      ],
      "metadata": {
        "id": "PFKlrAoYJRXA"
      },
      "execution_count": null,
      "outputs": []
    },
    {
      "cell_type": "code",
      "source": [
        "dataset = pd.read_csv('/content/drive/MyDrive/LALR.csv')"
      ],
      "metadata": {
        "id": "YrHqpBKWJPA5"
      },
      "execution_count": null,
      "outputs": []
    },
    {
      "cell_type": "code",
      "source": [
        "# cols = ['redshift']"
      ],
      "metadata": {
        "id": "tCa6YaOOz2Cq"
      },
      "execution_count": null,
      "outputs": []
    },
    {
      "cell_type": "code",
      "source": [
        "# dataset[cols] = dataset[cols].astype(int)"
      ],
      "metadata": {
        "id": "uFuSlQRbwmxd"
      },
      "execution_count": null,
      "outputs": []
    },
    {
      "cell_type": "code",
      "source": [
        "bins = []\n",
        "i = -1\n",
        "count = 0"
      ],
      "metadata": {
        "id": "Hs43diMqPeI-"
      },
      "execution_count": null,
      "outputs": []
    },
    {
      "cell_type": "code",
      "source": [
        "while(i<=8):\n",
        "  bins.append(i)\n",
        "  i = i+0.12857142857\n",
        "  count= count+1"
      ],
      "metadata": {
        "id": "-pKta52oPi-G"
      },
      "execution_count": null,
      "outputs": []
    },
    {
      "cell_type": "code",
      "source": [
        "count"
      ],
      "metadata": {
        "colab": {
          "base_uri": "https://localhost:8080/"
        },
        "id": "a8-We_EvQ__w",
        "outputId": "bb07b934-381b-4abd-fd1d-6b59599b15a4"
      },
      "execution_count": null,
      "outputs": [
        {
          "output_type": "execute_result",
          "data": {
            "text/plain": [
              "71"
            ]
          },
          "metadata": {},
          "execution_count": 102
        }
      ]
    },
    {
      "cell_type": "code",
      "source": [
        "label = []\n",
        "i = 0\n",
        "count = 0"
      ],
      "metadata": {
        "id": "BCEo8_QKPy_A"
      },
      "execution_count": null,
      "outputs": []
    },
    {
      "cell_type": "code",
      "source": [
        "while(i<=69):\n",
        "  label.append(i)\n",
        "  i = i+1\n",
        "  count = count+1"
      ],
      "metadata": {
        "id": "XvQ8zZxfP7iM"
      },
      "execution_count": null,
      "outputs": []
    },
    {
      "cell_type": "code",
      "source": [
        "count"
      ],
      "metadata": {
        "colab": {
          "base_uri": "https://localhost:8080/"
        },
        "id": "puOyd08TRGer",
        "outputId": "fa7ac182-90ee-4a84-cf41-9d90c857ad87"
      },
      "execution_count": null,
      "outputs": [
        {
          "output_type": "execute_result",
          "data": {
            "text/plain": [
              "70"
            ]
          },
          "metadata": {},
          "execution_count": 105
        }
      ]
    },
    {
      "cell_type": "code",
      "source": [
        "dataset['redshift_classes'] = pd.cut(\n",
        "    dataset['redshift'], \n",
        "    bins, \n",
        "    labels=label,\n",
        "    include_lowest=True\n",
        ")"
      ],
      "metadata": {
        "id": "brKYz9E2PTgr"
      },
      "execution_count": null,
      "outputs": []
    },
    {
      "cell_type": "code",
      "source": [
        "df = pd.DataFrame(dataset)"
      ],
      "metadata": {
        "id": "2JX61TPtR-wg"
      },
      "execution_count": null,
      "outputs": []
    },
    {
      "cell_type": "code",
      "source": [
        "# df.drop(df.columns[[0, 1,2,3,4,5,6,7,8,9,10,11,12,13,14,15,16,17,18,19,20,21,22,23,24,25,26,27,28,29,30,31]], axis = 1, inplace = True)"
      ],
      "metadata": {
        "id": "KMbpJpGT1cQn"
      },
      "execution_count": null,
      "outputs": []
    },
    {
      "cell_type": "code",
      "source": [
        "df.to_csv('Classed_LALR.csv', header=True, index=False)\n",
        "!cp Classed_LALR.csv \"drive/My Drive/\""
      ],
      "metadata": {
        "id": "wjKYwKI8Sp1l"
      },
      "execution_count": null,
      "outputs": []
    }
  ]
}